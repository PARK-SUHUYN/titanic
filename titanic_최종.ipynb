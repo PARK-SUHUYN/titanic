{
 "cells": [
  {
   "cell_type": "code",
   "execution_count": 1,
   "id": "7adfb026",
   "metadata": {},
   "outputs": [],
   "source": [
    "import pandas as pd\n",
    "import numpy as np\n",
    "import seaborn as sns\n",
    "import matplotlib.pyplot as plt\n",
    "\n",
    "import warnings\n",
    "warnings.filterwarnings('ignore')"
   ]
  },
  {
   "cell_type": "code",
   "execution_count": 2,
   "id": "1852b28c",
   "metadata": {},
   "outputs": [],
   "source": [
    "titanic_df = pd.read_csv('./데이터/train.csv')\n",
    "test_df = pd.read_csv('./데이터/test.csv')\n",
    "sub_df = pd.read_csv('./데이터/gender_submission.csv')"
   ]
  },
  {
   "cell_type": "code",
   "execution_count": 4,
   "id": "8e922ced",
   "metadata": {},
   "outputs": [],
   "source": [
    "# train, test set에 공통된 티켓 정보가 있어서 동증자 수를 측정하기 위해 concat 하고 \n",
    "# 동승자 수 변수 생성 후 다시 train, test 분리\n",
    "\n",
    "df = pd.concat([titanic_df, test_df], axis = 0)\n",
    "dic = dict(zip(df['Ticket'].value_counts().index, df['Ticket'].value_counts().values))\n",
    "df['Passengers'] = df['Ticket'].replace(dic)"
   ]
  },
  {
   "cell_type": "code",
   "execution_count": 5,
   "id": "fb5d8e04",
   "metadata": {},
   "outputs": [],
   "source": [
    "titanic_df = df[:891]\n",
    "test_df = df[891:]"
   ]
  },
  {
   "cell_type": "code",
   "execution_count": 6,
   "id": "1c9b0ae3",
   "metadata": {},
   "outputs": [],
   "source": [
    "# 전처리 함수\n",
    "def preprocess(df):\n",
    "    # title 파생변수 생성\n",
    "    df['Title']=df['Name'].str.split(', ').str[1].str.split('.').str[0]\n",
    "    \n",
    "    # 등급별 성별 나이의 중앙값으로 결측치 대체\n",
    "    age_median1 = df.groupby(['Pclass', 'Sex'])['Age'].median()\n",
    "    df['Age'] = df.apply(lambda row: age_median1[row['Pclass'], row['Sex']] if pd.isnull(row['Age']) else row['Age'], axis=1)\n",
    "    \n",
    "    # 가족 파생변수 생성\n",
    "    df['Family'] = df['SibSp'] + df['Parch']\n",
    "    \n",
    "    # 탑승 항구 결측치 S로 대체 (이름을 검색 -> S)\n",
    "    df['Embarked'] = df['Embarked'].fillna('S')\n",
    "    \n",
    "    # 500이상을 이상치 -> 500을 제외한 가장 큰 값으로 대체\n",
    "    df['Fare'] = np.where(df['Fare']>500, np.nan, df['Fare'])\n",
    "    df['Fare'] = df['Fare'].fillna(df['Fare'].max())\n",
    "    \n",
    "    return df"
   ]
  },
  {
   "cell_type": "code",
   "execution_count": 7,
   "id": "4e2c1046",
   "metadata": {},
   "outputs": [],
   "source": [
    "# embarked, title 라벨인코딩 함수\n",
    "def change_object(df):\n",
    "    from sklearn.preprocessing import LabelEncoder\n",
    "    ordinal_features = ['Embarked','Title']\n",
    "\n",
    "    for feature in ordinal_features:\n",
    "        le = LabelEncoder()\n",
    "        # 라벨인코딩\n",
    "        le = le.fit(df[feature])\n",
    "        df[feature] = le.transform(df[feature])\n",
    "    return df"
   ]
  },
  {
   "cell_type": "code",
   "execution_count": 8,
   "id": "694fa735",
   "metadata": {},
   "outputs": [],
   "source": [
    "# 불필요한 열 삭제 함수\n",
    "def remove_col(df):\n",
    "    df.drop('PassengerId', axis=1, inplace = True)\n",
    "    df.drop('Name', axis=1, inplace = True)\n",
    "    df.drop('Ticket', axis=1, inplace = True)\n",
    "    df.drop('Cabin', axis=1, inplace = True)"
   ]
  },
  {
   "cell_type": "code",
   "execution_count": 9,
   "id": "cc1ab758",
   "metadata": {},
   "outputs": [],
   "source": [
    "titanic_df = preprocess(titanic_df)\n",
    "test_df = preprocess(test_df)"
   ]
  },
  {
   "cell_type": "code",
   "execution_count": 11,
   "id": "1eb495ce",
   "metadata": {},
   "outputs": [],
   "source": [
    "remove_col(titanic_df)\n",
    "remove_col(test_df)"
   ]
  },
  {
   "cell_type": "code",
   "execution_count": 12,
   "id": "c3ecb349",
   "metadata": {},
   "outputs": [],
   "source": [
    "titanic_df = change_object(titanic_df)\n",
    "test_df = change_object(test_df)"
   ]
  },
  {
   "cell_type": "code",
   "execution_count": 13,
   "id": "7763b907",
   "metadata": {},
   "outputs": [],
   "source": [
    "# 원 핫 인코딩(판다스 내장함수) - 성별\n",
    "titanic_df = pd.get_dummies(titanic_df)\n",
    "test_df = pd.get_dummies(test_df)"
   ]
  },
  {
   "cell_type": "code",
   "execution_count": 14,
   "id": "ab4c5408",
   "metadata": {},
   "outputs": [],
   "source": [
    "titanic_df['Sex_female'] = np.where(titanic_df['Sex_female']==False, 0, 1)\n",
    "titanic_df['Sex_male'] = np.where(titanic_df['Sex_male']==False, 0, 1)"
   ]
  },
  {
   "cell_type": "code",
   "execution_count": 15,
   "id": "65789f87",
   "metadata": {},
   "outputs": [],
   "source": [
    "test_df['Sex_female'] = np.where(test_df['Sex_female']==False, 0, 1)\n",
    "test_df['Sex_male'] = np.where(test_df['Sex_male']==False, 0, 1)"
   ]
  },
  {
   "cell_type": "code",
   "execution_count": 16,
   "id": "aad8b19a",
   "metadata": {},
   "outputs": [],
   "source": [
    "test_df.drop('Survived', axis=1, inplace = True)"
   ]
  },
  {
   "cell_type": "code",
   "execution_count": 187,
   "id": "46d3d94f",
   "metadata": {},
   "outputs": [
    {
     "data": {
      "text/html": [
       "<div>\n",
       "<style scoped>\n",
       "    .dataframe tbody tr th:only-of-type {\n",
       "        vertical-align: middle;\n",
       "    }\n",
       "\n",
       "    .dataframe tbody tr th {\n",
       "        vertical-align: top;\n",
       "    }\n",
       "\n",
       "    .dataframe thead th {\n",
       "        text-align: right;\n",
       "    }\n",
       "</style>\n",
       "<table border=\"1\" class=\"dataframe\">\n",
       "  <thead>\n",
       "    <tr style=\"text-align: right;\">\n",
       "      <th></th>\n",
       "      <th>Survived</th>\n",
       "      <th>Pclass</th>\n",
       "      <th>Age</th>\n",
       "      <th>SibSp</th>\n",
       "      <th>Parch</th>\n",
       "      <th>Fare</th>\n",
       "      <th>Embarked</th>\n",
       "      <th>Passengers</th>\n",
       "      <th>Title</th>\n",
       "      <th>Family</th>\n",
       "      <th>Sex_female</th>\n",
       "      <th>Sex_male</th>\n",
       "    </tr>\n",
       "  </thead>\n",
       "  <tbody>\n",
       "    <tr>\n",
       "      <th>0</th>\n",
       "      <td>0.0</td>\n",
       "      <td>3</td>\n",
       "      <td>22.0</td>\n",
       "      <td>1</td>\n",
       "      <td>0</td>\n",
       "      <td>7.2500</td>\n",
       "      <td>2</td>\n",
       "      <td>1</td>\n",
       "      <td>11</td>\n",
       "      <td>1</td>\n",
       "      <td>0</td>\n",
       "      <td>1</td>\n",
       "    </tr>\n",
       "    <tr>\n",
       "      <th>1</th>\n",
       "      <td>1.0</td>\n",
       "      <td>1</td>\n",
       "      <td>38.0</td>\n",
       "      <td>1</td>\n",
       "      <td>0</td>\n",
       "      <td>71.2833</td>\n",
       "      <td>0</td>\n",
       "      <td>1</td>\n",
       "      <td>12</td>\n",
       "      <td>1</td>\n",
       "      <td>1</td>\n",
       "      <td>0</td>\n",
       "    </tr>\n",
       "    <tr>\n",
       "      <th>2</th>\n",
       "      <td>1.0</td>\n",
       "      <td>3</td>\n",
       "      <td>26.0</td>\n",
       "      <td>0</td>\n",
       "      <td>0</td>\n",
       "      <td>7.9250</td>\n",
       "      <td>2</td>\n",
       "      <td>1</td>\n",
       "      <td>8</td>\n",
       "      <td>0</td>\n",
       "      <td>1</td>\n",
       "      <td>0</td>\n",
       "    </tr>\n",
       "    <tr>\n",
       "      <th>3</th>\n",
       "      <td>1.0</td>\n",
       "      <td>1</td>\n",
       "      <td>35.0</td>\n",
       "      <td>1</td>\n",
       "      <td>0</td>\n",
       "      <td>53.1000</td>\n",
       "      <td>2</td>\n",
       "      <td>2</td>\n",
       "      <td>12</td>\n",
       "      <td>1</td>\n",
       "      <td>1</td>\n",
       "      <td>0</td>\n",
       "    </tr>\n",
       "    <tr>\n",
       "      <th>4</th>\n",
       "      <td>0.0</td>\n",
       "      <td>3</td>\n",
       "      <td>35.0</td>\n",
       "      <td>0</td>\n",
       "      <td>0</td>\n",
       "      <td>8.0500</td>\n",
       "      <td>2</td>\n",
       "      <td>1</td>\n",
       "      <td>11</td>\n",
       "      <td>0</td>\n",
       "      <td>0</td>\n",
       "      <td>1</td>\n",
       "    </tr>\n",
       "    <tr>\n",
       "      <th>...</th>\n",
       "      <td>...</td>\n",
       "      <td>...</td>\n",
       "      <td>...</td>\n",
       "      <td>...</td>\n",
       "      <td>...</td>\n",
       "      <td>...</td>\n",
       "      <td>...</td>\n",
       "      <td>...</td>\n",
       "      <td>...</td>\n",
       "      <td>...</td>\n",
       "      <td>...</td>\n",
       "      <td>...</td>\n",
       "    </tr>\n",
       "    <tr>\n",
       "      <th>886</th>\n",
       "      <td>0.0</td>\n",
       "      <td>2</td>\n",
       "      <td>27.0</td>\n",
       "      <td>0</td>\n",
       "      <td>0</td>\n",
       "      <td>13.0000</td>\n",
       "      <td>2</td>\n",
       "      <td>1</td>\n",
       "      <td>14</td>\n",
       "      <td>0</td>\n",
       "      <td>0</td>\n",
       "      <td>1</td>\n",
       "    </tr>\n",
       "    <tr>\n",
       "      <th>887</th>\n",
       "      <td>1.0</td>\n",
       "      <td>1</td>\n",
       "      <td>19.0</td>\n",
       "      <td>0</td>\n",
       "      <td>0</td>\n",
       "      <td>30.0000</td>\n",
       "      <td>2</td>\n",
       "      <td>1</td>\n",
       "      <td>8</td>\n",
       "      <td>0</td>\n",
       "      <td>1</td>\n",
       "      <td>0</td>\n",
       "    </tr>\n",
       "    <tr>\n",
       "      <th>888</th>\n",
       "      <td>0.0</td>\n",
       "      <td>3</td>\n",
       "      <td>21.5</td>\n",
       "      <td>1</td>\n",
       "      <td>2</td>\n",
       "      <td>23.4500</td>\n",
       "      <td>2</td>\n",
       "      <td>2</td>\n",
       "      <td>8</td>\n",
       "      <td>3</td>\n",
       "      <td>1</td>\n",
       "      <td>0</td>\n",
       "    </tr>\n",
       "    <tr>\n",
       "      <th>889</th>\n",
       "      <td>1.0</td>\n",
       "      <td>1</td>\n",
       "      <td>26.0</td>\n",
       "      <td>0</td>\n",
       "      <td>0</td>\n",
       "      <td>30.0000</td>\n",
       "      <td>0</td>\n",
       "      <td>1</td>\n",
       "      <td>11</td>\n",
       "      <td>0</td>\n",
       "      <td>0</td>\n",
       "      <td>1</td>\n",
       "    </tr>\n",
       "    <tr>\n",
       "      <th>890</th>\n",
       "      <td>0.0</td>\n",
       "      <td>3</td>\n",
       "      <td>32.0</td>\n",
       "      <td>0</td>\n",
       "      <td>0</td>\n",
       "      <td>7.7500</td>\n",
       "      <td>1</td>\n",
       "      <td>1</td>\n",
       "      <td>11</td>\n",
       "      <td>0</td>\n",
       "      <td>0</td>\n",
       "      <td>1</td>\n",
       "    </tr>\n",
       "  </tbody>\n",
       "</table>\n",
       "<p>891 rows × 12 columns</p>\n",
       "</div>"
      ],
      "text/plain": [
       "     Survived  Pclass   Age  SibSp  Parch     Fare  Embarked  Passengers  \\\n",
       "0         0.0       3  22.0      1      0   7.2500         2           1   \n",
       "1         1.0       1  38.0      1      0  71.2833         0           1   \n",
       "2         1.0       3  26.0      0      0   7.9250         2           1   \n",
       "3         1.0       1  35.0      1      0  53.1000         2           2   \n",
       "4         0.0       3  35.0      0      0   8.0500         2           1   \n",
       "..        ...     ...   ...    ...    ...      ...       ...         ...   \n",
       "886       0.0       2  27.0      0      0  13.0000         2           1   \n",
       "887       1.0       1  19.0      0      0  30.0000         2           1   \n",
       "888       0.0       3  21.5      1      2  23.4500         2           2   \n",
       "889       1.0       1  26.0      0      0  30.0000         0           1   \n",
       "890       0.0       3  32.0      0      0   7.7500         1           1   \n",
       "\n",
       "     Title  Family  Sex_female  Sex_male  \n",
       "0       11       1           0         1  \n",
       "1       12       1           1         0  \n",
       "2        8       0           1         0  \n",
       "3       12       1           1         0  \n",
       "4       11       0           0         1  \n",
       "..     ...     ...         ...       ...  \n",
       "886     14       0           0         1  \n",
       "887      8       0           1         0  \n",
       "888      8       3           1         0  \n",
       "889     11       0           0         1  \n",
       "890     11       0           0         1  \n",
       "\n",
       "[891 rows x 12 columns]"
      ]
     },
     "execution_count": 187,
     "metadata": {},
     "output_type": "execute_result"
    }
   ],
   "source": [
    "titanic_df"
   ]
  },
  {
   "cell_type": "markdown",
   "id": "5de3d6fd",
   "metadata": {},
   "source": [
    "# 모델링"
   ]
  },
  {
   "cell_type": "markdown",
   "id": "b4569df3",
   "metadata": {},
   "source": [
    "## random forest - 전체 변수"
   ]
  },
  {
   "cell_type": "code",
   "execution_count": 17,
   "id": "fa3dac7e",
   "metadata": {},
   "outputs": [],
   "source": [
    "X = titanic_df.drop(['Survived'],axis=1)\n",
    "y = titanic_df['Survived']"
   ]
  },
  {
   "cell_type": "code",
   "execution_count": 18,
   "id": "ea37e213",
   "metadata": {},
   "outputs": [],
   "source": [
    "from sklearn.model_selection import train_test_split\n",
    "X_train, X_val, y_train, y_val = train_test_split(X, y, test_size=0.2, random_state=42)"
   ]
  },
  {
   "cell_type": "code",
   "execution_count": 19,
   "id": "a0084064",
   "metadata": {},
   "outputs": [
    {
     "data": {
      "text/html": [
       "<style>#sk-container-id-1 {color: black;background-color: white;}#sk-container-id-1 pre{padding: 0;}#sk-container-id-1 div.sk-toggleable {background-color: white;}#sk-container-id-1 label.sk-toggleable__label {cursor: pointer;display: block;width: 100%;margin-bottom: 0;padding: 0.3em;box-sizing: border-box;text-align: center;}#sk-container-id-1 label.sk-toggleable__label-arrow:before {content: \"▸\";float: left;margin-right: 0.25em;color: #696969;}#sk-container-id-1 label.sk-toggleable__label-arrow:hover:before {color: black;}#sk-container-id-1 div.sk-estimator:hover label.sk-toggleable__label-arrow:before {color: black;}#sk-container-id-1 div.sk-toggleable__content {max-height: 0;max-width: 0;overflow: hidden;text-align: left;background-color: #f0f8ff;}#sk-container-id-1 div.sk-toggleable__content pre {margin: 0.2em;color: black;border-radius: 0.25em;background-color: #f0f8ff;}#sk-container-id-1 input.sk-toggleable__control:checked~div.sk-toggleable__content {max-height: 200px;max-width: 100%;overflow: auto;}#sk-container-id-1 input.sk-toggleable__control:checked~label.sk-toggleable__label-arrow:before {content: \"▾\";}#sk-container-id-1 div.sk-estimator input.sk-toggleable__control:checked~label.sk-toggleable__label {background-color: #d4ebff;}#sk-container-id-1 div.sk-label input.sk-toggleable__control:checked~label.sk-toggleable__label {background-color: #d4ebff;}#sk-container-id-1 input.sk-hidden--visually {border: 0;clip: rect(1px 1px 1px 1px);clip: rect(1px, 1px, 1px, 1px);height: 1px;margin: -1px;overflow: hidden;padding: 0;position: absolute;width: 1px;}#sk-container-id-1 div.sk-estimator {font-family: monospace;background-color: #f0f8ff;border: 1px dotted black;border-radius: 0.25em;box-sizing: border-box;margin-bottom: 0.5em;}#sk-container-id-1 div.sk-estimator:hover {background-color: #d4ebff;}#sk-container-id-1 div.sk-parallel-item::after {content: \"\";width: 100%;border-bottom: 1px solid gray;flex-grow: 1;}#sk-container-id-1 div.sk-label:hover label.sk-toggleable__label {background-color: #d4ebff;}#sk-container-id-1 div.sk-serial::before {content: \"\";position: absolute;border-left: 1px solid gray;box-sizing: border-box;top: 0;bottom: 0;left: 50%;z-index: 0;}#sk-container-id-1 div.sk-serial {display: flex;flex-direction: column;align-items: center;background-color: white;padding-right: 0.2em;padding-left: 0.2em;position: relative;}#sk-container-id-1 div.sk-item {position: relative;z-index: 1;}#sk-container-id-1 div.sk-parallel {display: flex;align-items: stretch;justify-content: center;background-color: white;position: relative;}#sk-container-id-1 div.sk-item::before, #sk-container-id-1 div.sk-parallel-item::before {content: \"\";position: absolute;border-left: 1px solid gray;box-sizing: border-box;top: 0;bottom: 0;left: 50%;z-index: -1;}#sk-container-id-1 div.sk-parallel-item {display: flex;flex-direction: column;z-index: 1;position: relative;background-color: white;}#sk-container-id-1 div.sk-parallel-item:first-child::after {align-self: flex-end;width: 50%;}#sk-container-id-1 div.sk-parallel-item:last-child::after {align-self: flex-start;width: 50%;}#sk-container-id-1 div.sk-parallel-item:only-child::after {width: 0;}#sk-container-id-1 div.sk-dashed-wrapped {border: 1px dashed gray;margin: 0 0.4em 0.5em 0.4em;box-sizing: border-box;padding-bottom: 0.4em;background-color: white;}#sk-container-id-1 div.sk-label label {font-family: monospace;font-weight: bold;display: inline-block;line-height: 1.2em;}#sk-container-id-1 div.sk-label-container {text-align: center;}#sk-container-id-1 div.sk-container {/* jupyter's `normalize.less` sets `[hidden] { display: none; }` but bootstrap.min.css set `[hidden] { display: none !important; }` so we also need the `!important` here to be able to override the default hidden behavior on the sphinx rendered scikit-learn.org. See: https://github.com/scikit-learn/scikit-learn/issues/21755 */display: inline-block !important;position: relative;}#sk-container-id-1 div.sk-text-repr-fallback {display: none;}</style><div id=\"sk-container-id-1\" class=\"sk-top-container\"><div class=\"sk-text-repr-fallback\"><pre>GridSearchCV(cv=10,\n",
       "             estimator=RandomForestClassifier(n_jobs=-1, random_state=42),\n",
       "             n_jobs=-1,\n",
       "             param_grid={&#x27;max_depth&#x27;: [3, 6, 8],\n",
       "                         &#x27;min_samples_leaf&#x27;: [8, 12, 16],\n",
       "                         &#x27;min_samples_split&#x27;: [8, 16, 20],\n",
       "                         &#x27;n_estimators&#x27;: [10, 20, 30]},\n",
       "             return_train_score=True)</pre><b>In a Jupyter environment, please rerun this cell to show the HTML representation or trust the notebook. <br />On GitHub, the HTML representation is unable to render, please try loading this page with nbviewer.org.</b></div><div class=\"sk-container\" hidden><div class=\"sk-item sk-dashed-wrapped\"><div class=\"sk-label-container\"><div class=\"sk-label sk-toggleable\"><input class=\"sk-toggleable__control sk-hidden--visually\" id=\"sk-estimator-id-1\" type=\"checkbox\" ><label for=\"sk-estimator-id-1\" class=\"sk-toggleable__label sk-toggleable__label-arrow\">GridSearchCV</label><div class=\"sk-toggleable__content\"><pre>GridSearchCV(cv=10,\n",
       "             estimator=RandomForestClassifier(n_jobs=-1, random_state=42),\n",
       "             n_jobs=-1,\n",
       "             param_grid={&#x27;max_depth&#x27;: [3, 6, 8],\n",
       "                         &#x27;min_samples_leaf&#x27;: [8, 12, 16],\n",
       "                         &#x27;min_samples_split&#x27;: [8, 16, 20],\n",
       "                         &#x27;n_estimators&#x27;: [10, 20, 30]},\n",
       "             return_train_score=True)</pre></div></div></div><div class=\"sk-parallel\"><div class=\"sk-parallel-item\"><div class=\"sk-item\"><div class=\"sk-label-container\"><div class=\"sk-label sk-toggleable\"><input class=\"sk-toggleable__control sk-hidden--visually\" id=\"sk-estimator-id-2\" type=\"checkbox\" ><label for=\"sk-estimator-id-2\" class=\"sk-toggleable__label sk-toggleable__label-arrow\">estimator: RandomForestClassifier</label><div class=\"sk-toggleable__content\"><pre>RandomForestClassifier(n_jobs=-1, random_state=42)</pre></div></div></div><div class=\"sk-serial\"><div class=\"sk-item\"><div class=\"sk-estimator sk-toggleable\"><input class=\"sk-toggleable__control sk-hidden--visually\" id=\"sk-estimator-id-3\" type=\"checkbox\" ><label for=\"sk-estimator-id-3\" class=\"sk-toggleable__label sk-toggleable__label-arrow\">RandomForestClassifier</label><div class=\"sk-toggleable__content\"><pre>RandomForestClassifier(n_jobs=-1, random_state=42)</pre></div></div></div></div></div></div></div></div></div></div>"
      ],
      "text/plain": [
       "GridSearchCV(cv=10,\n",
       "             estimator=RandomForestClassifier(n_jobs=-1, random_state=42),\n",
       "             n_jobs=-1,\n",
       "             param_grid={'max_depth': [3, 6, 8],\n",
       "                         'min_samples_leaf': [8, 12, 16],\n",
       "                         'min_samples_split': [8, 16, 20],\n",
       "                         'n_estimators': [10, 20, 30]},\n",
       "             return_train_score=True)"
      ]
     },
     "execution_count": 19,
     "metadata": {},
     "output_type": "execute_result"
    }
   ],
   "source": [
    "from sklearn.ensemble import RandomForestClassifier\n",
    "from sklearn.metrics import accuracy_score\n",
    "from sklearn.model_selection import GridSearchCV\n",
    "\n",
    "params = { 'n_estimators' : [10, 20, 30],\n",
    "           'max_depth' : [3, 6, 8],\n",
    "           'min_samples_leaf' : [8, 12, 16],\n",
    "          'min_samples_split' : [8, 16, 20]\n",
    "            }\n",
    "\n",
    "# RandomForestClassifier 객체 생성 후 GridSearchCV 수행\n",
    "rf_clf = RandomForestClassifier(random_state = 42, n_jobs = -1)\n",
    "\n",
    "# 교차검증 10번\n",
    "grid_cv = GridSearchCV(rf_clf, param_grid = params, cv = 10, n_jobs = -1, return_train_score=True, verbose = 0)\n",
    "grid_cv.fit(X_train, y_train)"
   ]
  },
  {
   "cell_type": "code",
   "execution_count": 20,
   "id": "e26567ab",
   "metadata": {},
   "outputs": [
    {
     "data": {
      "text/plain": [
       "{'max_depth': 6,\n",
       " 'min_samples_leaf': 8,\n",
       " 'min_samples_split': 20,\n",
       " 'n_estimators': 30}"
      ]
     },
     "execution_count": 20,
     "metadata": {},
     "output_type": "execute_result"
    }
   ],
   "source": [
    "grid_cv.best_params_"
   ]
  },
  {
   "cell_type": "code",
   "execution_count": 21,
   "id": "570d87ab",
   "metadata": {},
   "outputs": [
    {
     "data": {
      "text/plain": [
       "(0.8497191011235955, 0.8212290502793296)"
      ]
     },
     "execution_count": 21,
     "metadata": {},
     "output_type": "execute_result"
    }
   ],
   "source": [
    "# train, val 정확도로 overfitting 확인\n",
    "pred_rf_train = grid_cv.predict(X_train)\n",
    "pred_rf_val = grid_cv.predict(X_val)\n",
    "\n",
    "accuracy_score(y_train, pred_rf_train), accuracy_score(y_val, pred_rf_val)"
   ]
  },
  {
   "cell_type": "markdown",
   "id": "0fc995fa",
   "metadata": {},
   "source": [
    "## random forest - 5개 변수 제외\n",
    "- 변수 중요도를 봤을 때, sibsp, parch, family, embarked 가 0.05보다 작아서 중요도가 작다고 생각함  \n",
    "- 그리고, 추가적으로 목표에 맞게 시대적 배경이 존재하는 호칭을 제외함"
   ]
  },
  {
   "cell_type": "code",
   "execution_count": 31,
   "id": "d8337de3",
   "metadata": {},
   "outputs": [],
   "source": [
    "X = titanic_df.drop(['Survived','SibSp','Parch','Family','Embarked','Title'],axis=1)\n",
    "test_df1 = test_df.drop(['SibSp','Parch','Family','Embarked','Title'],axis=1)\n",
    "y = titanic_df['Survived']"
   ]
  },
  {
   "cell_type": "code",
   "execution_count": 32,
   "id": "9cb8e758",
   "metadata": {},
   "outputs": [],
   "source": [
    "from sklearn.model_selection import train_test_split\n",
    "X_train, X_val, y_train, y_val = train_test_split(X, y, test_size=0.2, random_state=42)"
   ]
  },
  {
   "cell_type": "code",
   "execution_count": 33,
   "id": "1747c4e9",
   "metadata": {},
   "outputs": [
    {
     "data": {
      "text/html": [
       "<style>#sk-container-id-3 {color: black;background-color: white;}#sk-container-id-3 pre{padding: 0;}#sk-container-id-3 div.sk-toggleable {background-color: white;}#sk-container-id-3 label.sk-toggleable__label {cursor: pointer;display: block;width: 100%;margin-bottom: 0;padding: 0.3em;box-sizing: border-box;text-align: center;}#sk-container-id-3 label.sk-toggleable__label-arrow:before {content: \"▸\";float: left;margin-right: 0.25em;color: #696969;}#sk-container-id-3 label.sk-toggleable__label-arrow:hover:before {color: black;}#sk-container-id-3 div.sk-estimator:hover label.sk-toggleable__label-arrow:before {color: black;}#sk-container-id-3 div.sk-toggleable__content {max-height: 0;max-width: 0;overflow: hidden;text-align: left;background-color: #f0f8ff;}#sk-container-id-3 div.sk-toggleable__content pre {margin: 0.2em;color: black;border-radius: 0.25em;background-color: #f0f8ff;}#sk-container-id-3 input.sk-toggleable__control:checked~div.sk-toggleable__content {max-height: 200px;max-width: 100%;overflow: auto;}#sk-container-id-3 input.sk-toggleable__control:checked~label.sk-toggleable__label-arrow:before {content: \"▾\";}#sk-container-id-3 div.sk-estimator input.sk-toggleable__control:checked~label.sk-toggleable__label {background-color: #d4ebff;}#sk-container-id-3 div.sk-label input.sk-toggleable__control:checked~label.sk-toggleable__label {background-color: #d4ebff;}#sk-container-id-3 input.sk-hidden--visually {border: 0;clip: rect(1px 1px 1px 1px);clip: rect(1px, 1px, 1px, 1px);height: 1px;margin: -1px;overflow: hidden;padding: 0;position: absolute;width: 1px;}#sk-container-id-3 div.sk-estimator {font-family: monospace;background-color: #f0f8ff;border: 1px dotted black;border-radius: 0.25em;box-sizing: border-box;margin-bottom: 0.5em;}#sk-container-id-3 div.sk-estimator:hover {background-color: #d4ebff;}#sk-container-id-3 div.sk-parallel-item::after {content: \"\";width: 100%;border-bottom: 1px solid gray;flex-grow: 1;}#sk-container-id-3 div.sk-label:hover label.sk-toggleable__label {background-color: #d4ebff;}#sk-container-id-3 div.sk-serial::before {content: \"\";position: absolute;border-left: 1px solid gray;box-sizing: border-box;top: 0;bottom: 0;left: 50%;z-index: 0;}#sk-container-id-3 div.sk-serial {display: flex;flex-direction: column;align-items: center;background-color: white;padding-right: 0.2em;padding-left: 0.2em;position: relative;}#sk-container-id-3 div.sk-item {position: relative;z-index: 1;}#sk-container-id-3 div.sk-parallel {display: flex;align-items: stretch;justify-content: center;background-color: white;position: relative;}#sk-container-id-3 div.sk-item::before, #sk-container-id-3 div.sk-parallel-item::before {content: \"\";position: absolute;border-left: 1px solid gray;box-sizing: border-box;top: 0;bottom: 0;left: 50%;z-index: -1;}#sk-container-id-3 div.sk-parallel-item {display: flex;flex-direction: column;z-index: 1;position: relative;background-color: white;}#sk-container-id-3 div.sk-parallel-item:first-child::after {align-self: flex-end;width: 50%;}#sk-container-id-3 div.sk-parallel-item:last-child::after {align-self: flex-start;width: 50%;}#sk-container-id-3 div.sk-parallel-item:only-child::after {width: 0;}#sk-container-id-3 div.sk-dashed-wrapped {border: 1px dashed gray;margin: 0 0.4em 0.5em 0.4em;box-sizing: border-box;padding-bottom: 0.4em;background-color: white;}#sk-container-id-3 div.sk-label label {font-family: monospace;font-weight: bold;display: inline-block;line-height: 1.2em;}#sk-container-id-3 div.sk-label-container {text-align: center;}#sk-container-id-3 div.sk-container {/* jupyter's `normalize.less` sets `[hidden] { display: none; }` but bootstrap.min.css set `[hidden] { display: none !important; }` so we also need the `!important` here to be able to override the default hidden behavior on the sphinx rendered scikit-learn.org. See: https://github.com/scikit-learn/scikit-learn/issues/21755 */display: inline-block !important;position: relative;}#sk-container-id-3 div.sk-text-repr-fallback {display: none;}</style><div id=\"sk-container-id-3\" class=\"sk-top-container\"><div class=\"sk-text-repr-fallback\"><pre>GridSearchCV(cv=10,\n",
       "             estimator=RandomForestClassifier(criterion=&#x27;entropy&#x27;, n_jobs=-1,\n",
       "                                              random_state=42),\n",
       "             n_jobs=-1,\n",
       "             param_grid={&#x27;max_depth&#x27;: [3], &#x27;min_samples_leaf&#x27;: [4, 8, 12, 18],\n",
       "                         &#x27;min_samples_split&#x27;: [10, 14, 20],\n",
       "                         &#x27;n_estimators&#x27;: [10, 20, 30]},\n",
       "             return_train_score=True)</pre><b>In a Jupyter environment, please rerun this cell to show the HTML representation or trust the notebook. <br />On GitHub, the HTML representation is unable to render, please try loading this page with nbviewer.org.</b></div><div class=\"sk-container\" hidden><div class=\"sk-item sk-dashed-wrapped\"><div class=\"sk-label-container\"><div class=\"sk-label sk-toggleable\"><input class=\"sk-toggleable__control sk-hidden--visually\" id=\"sk-estimator-id-7\" type=\"checkbox\" ><label for=\"sk-estimator-id-7\" class=\"sk-toggleable__label sk-toggleable__label-arrow\">GridSearchCV</label><div class=\"sk-toggleable__content\"><pre>GridSearchCV(cv=10,\n",
       "             estimator=RandomForestClassifier(criterion=&#x27;entropy&#x27;, n_jobs=-1,\n",
       "                                              random_state=42),\n",
       "             n_jobs=-1,\n",
       "             param_grid={&#x27;max_depth&#x27;: [3], &#x27;min_samples_leaf&#x27;: [4, 8, 12, 18],\n",
       "                         &#x27;min_samples_split&#x27;: [10, 14, 20],\n",
       "                         &#x27;n_estimators&#x27;: [10, 20, 30]},\n",
       "             return_train_score=True)</pre></div></div></div><div class=\"sk-parallel\"><div class=\"sk-parallel-item\"><div class=\"sk-item\"><div class=\"sk-label-container\"><div class=\"sk-label sk-toggleable\"><input class=\"sk-toggleable__control sk-hidden--visually\" id=\"sk-estimator-id-8\" type=\"checkbox\" ><label for=\"sk-estimator-id-8\" class=\"sk-toggleable__label sk-toggleable__label-arrow\">estimator: RandomForestClassifier</label><div class=\"sk-toggleable__content\"><pre>RandomForestClassifier(criterion=&#x27;entropy&#x27;, n_jobs=-1, random_state=42)</pre></div></div></div><div class=\"sk-serial\"><div class=\"sk-item\"><div class=\"sk-estimator sk-toggleable\"><input class=\"sk-toggleable__control sk-hidden--visually\" id=\"sk-estimator-id-9\" type=\"checkbox\" ><label for=\"sk-estimator-id-9\" class=\"sk-toggleable__label sk-toggleable__label-arrow\">RandomForestClassifier</label><div class=\"sk-toggleable__content\"><pre>RandomForestClassifier(criterion=&#x27;entropy&#x27;, n_jobs=-1, random_state=42)</pre></div></div></div></div></div></div></div></div></div></div>"
      ],
      "text/plain": [
       "GridSearchCV(cv=10,\n",
       "             estimator=RandomForestClassifier(criterion='entropy', n_jobs=-1,\n",
       "                                              random_state=42),\n",
       "             n_jobs=-1,\n",
       "             param_grid={'max_depth': [3], 'min_samples_leaf': [4, 8, 12, 18],\n",
       "                         'min_samples_split': [10, 14, 20],\n",
       "                         'n_estimators': [10, 20, 30]},\n",
       "             return_train_score=True)"
      ]
     },
     "execution_count": 33,
     "metadata": {},
     "output_type": "execute_result"
    }
   ],
   "source": [
    "from sklearn.ensemble import RandomForestClassifier\n",
    "from sklearn.metrics import accuracy_score\n",
    "from sklearn.model_selection import GridSearchCV\n",
    "\n",
    "params = { 'n_estimators' : [10,20, 30],\n",
    "          'max_depth' : [3],\n",
    "          'min_samples_leaf' : [4, 8, 12, 18],\n",
    "          'min_samples_split' : [10, 14, 20],\n",
    "            }\n",
    "\n",
    "\n",
    "# RandomForestClassifier 객체 생성 후 GridSearchCV 수행\n",
    "rf_clf = RandomForestClassifier(random_state = 42, n_jobs = -1, criterion='entropy')\n",
    "grid_rf_cv = GridSearchCV(rf_clf, param_grid = params, cv = 10, n_jobs = -1, return_train_score=True, verbose = 0)\n",
    "grid_rf_cv.fit(X_train, y_train)"
   ]
  },
  {
   "cell_type": "code",
   "execution_count": 34,
   "id": "6f65129a",
   "metadata": {},
   "outputs": [
    {
     "data": {
      "text/plain": [
       "{'max_depth': 3,\n",
       " 'min_samples_leaf': 4,\n",
       " 'min_samples_split': 14,\n",
       " 'n_estimators': 10}"
      ]
     },
     "execution_count": 34,
     "metadata": {},
     "output_type": "execute_result"
    }
   ],
   "source": [
    "grid_rf_cv.best_params_"
   ]
  },
  {
   "cell_type": "code",
   "execution_count": 35,
   "id": "2f22cbbf",
   "metadata": {},
   "outputs": [
    {
     "data": {
      "text/plain": [
       "0.8230242566510171"
      ]
     },
     "execution_count": 35,
     "metadata": {},
     "output_type": "execute_result"
    }
   ],
   "source": [
    "# 검증 최고 score\n",
    "grid_rf_cv.best_score_"
   ]
  },
  {
   "cell_type": "code",
   "execution_count": 37,
   "id": "25b611db",
   "metadata": {},
   "outputs": [
    {
     "data": {
      "text/plain": [
       "(0.8216292134831461, 0.7988826815642458)"
      ]
     },
     "execution_count": 37,
     "metadata": {},
     "output_type": "execute_result"
    }
   ],
   "source": [
    "pred_rf_train = grid_rf_cv.predict(X_train)\n",
    "pred_rf_val = grid_rf_cv.predict(X_val)\n",
    "\n",
    "accuracy_score(y_train, pred_rf_train), accuracy_score(y_val, pred_rf_val)"
   ]
  },
  {
   "cell_type": "markdown",
   "id": "11057e7b",
   "metadata": {},
   "source": [
    "## Logit - 전체"
   ]
  },
  {
   "cell_type": "code",
   "execution_count": 40,
   "id": "8262cc74",
   "metadata": {},
   "outputs": [],
   "source": [
    "X = titanic_df.drop(['Survived'],axis=1)\n",
    "y = titanic_df['Survived']"
   ]
  },
  {
   "cell_type": "code",
   "execution_count": 41,
   "id": "46b0e1c3",
   "metadata": {},
   "outputs": [],
   "source": [
    "from sklearn.model_selection import train_test_split\n",
    "X_train, X_val, y_train, y_val = train_test_split(X, y, test_size=0.2, random_state=42)"
   ]
  },
  {
   "cell_type": "code",
   "execution_count": 42,
   "id": "2e45d442",
   "metadata": {},
   "outputs": [
    {
     "data": {
      "text/plain": [
       "(0.8103932584269663, 0.8100558659217877)"
      ]
     },
     "execution_count": 42,
     "metadata": {},
     "output_type": "execute_result"
    }
   ],
   "source": [
    "from sklearn.linear_model import LogisticRegression\n",
    "lr = LogisticRegression(random_state=42, solver='lbfgs')\n",
    "lr.fit(X_train, y_train)\n",
    "\n",
    "pred_lr_train = lr.predict(X_train)\n",
    "pred_lr_val = lr.predict(X_val)\n",
    "\n",
    "accuracy_score(y_train, pred_lr_train), accuracy_score(y_val, pred_lr_val)"
   ]
  },
  {
   "cell_type": "markdown",
   "id": "d84750c7",
   "metadata": {},
   "source": [
    "## Logit - 5개 변수 제외"
   ]
  },
  {
   "cell_type": "code",
   "execution_count": 44,
   "id": "6d428a7e",
   "metadata": {},
   "outputs": [],
   "source": [
    "X = titanic_df.drop(['Survived','SibSp','Parch','Family','Embarked','Title'],axis=1)\n",
    "test_df1 = test_df.drop(['SibSp','Parch','Family','Embarked','Title'],axis=1)\n",
    "y = titanic_df['Survived']"
   ]
  },
  {
   "cell_type": "code",
   "execution_count": 45,
   "id": "dc8bc439",
   "metadata": {},
   "outputs": [],
   "source": [
    "from sklearn.model_selection import train_test_split\n",
    "X_train, X_val, y_train, y_val = train_test_split(X, y, test_size=0.2, random_state=42)"
   ]
  },
  {
   "cell_type": "code",
   "execution_count": 46,
   "id": "d372a896",
   "metadata": {},
   "outputs": [
    {
     "data": {
      "text/plain": [
       "(0.800561797752809, 0.8156424581005587)"
      ]
     },
     "execution_count": 46,
     "metadata": {},
     "output_type": "execute_result"
    }
   ],
   "source": [
    "from sklearn.linear_model import LogisticRegression\n",
    "lr = LogisticRegression(random_state=42)\n",
    "lr.fit(X_train, y_train)\n",
    "\n",
    "pred_lr_train = lr.predict(X_train)\n",
    "pred_lr_val = lr.predict(X_val)\n",
    "\n",
    "accuracy_score(y_train, pred_lr_train), accuracy_score(y_val, pred_lr_val)"
   ]
  },
  {
   "cell_type": "markdown",
   "id": "960c2b0c",
   "metadata": {},
   "source": [
    "## SVC - 전체"
   ]
  },
  {
   "cell_type": "code",
   "execution_count": 48,
   "id": "8105ee5f",
   "metadata": {},
   "outputs": [],
   "source": [
    "X = titanic_df.drop(['Survived'],axis=1)\n",
    "y = titanic_df['Survived']"
   ]
  },
  {
   "cell_type": "code",
   "execution_count": 49,
   "id": "798f38ca",
   "metadata": {},
   "outputs": [],
   "source": [
    "from sklearn.model_selection import train_test_split\n",
    "X_train, X_val, y_train, y_val = train_test_split(X, y, test_size=0.2, random_state=42)"
   ]
  },
  {
   "cell_type": "code",
   "execution_count": 50,
   "id": "74efec40",
   "metadata": {},
   "outputs": [
    {
     "data": {
      "text/plain": [
       "(0.8525280898876404, 0.7932960893854749)"
      ]
     },
     "execution_count": 50,
     "metadata": {},
     "output_type": "execute_result"
    }
   ],
   "source": [
    "from sklearn.svm import SVC\n",
    "svc= SVC(random_state=42)\n",
    "params = {'kernel': ['rbf'], \n",
    "                  'gamma': [ 0.001, 0.01, 0.1, 1],\n",
    "                  'C': [1, 10, 50, 100,200,300]}\n",
    "\n",
    "grid__svc_cv = GridSearchCV(svc,param_grid = params, cv=10,\n",
    "                      scoring=\"accuracy\")\n",
    "\n",
    "grid__svc_cv.fit(X_train, y_train)\n",
    "pred_svm_train = grid__svc_cv.predict(X_train)\n",
    "pred_svm_val = grid__svc_cv.predict(X_val)\n",
    "\n",
    "accuracy_score(y_train, pred_svm_train), accuracy_score(y_val, pred_svm_val)"
   ]
  },
  {
   "cell_type": "code",
   "execution_count": 51,
   "id": "0de7e402",
   "metadata": {},
   "outputs": [
    {
     "data": {
      "text/plain": [
       "0.8019953051643194"
      ]
     },
     "execution_count": 51,
     "metadata": {},
     "output_type": "execute_result"
    }
   ],
   "source": [
    "grid__svc_cv.best_score_"
   ]
  },
  {
   "cell_type": "markdown",
   "id": "5a21ce9e",
   "metadata": {},
   "source": [
    "## SVC - 5개 변수 제외"
   ]
  },
  {
   "cell_type": "code",
   "execution_count": 179,
   "id": "46037e88",
   "metadata": {},
   "outputs": [],
   "source": [
    "X = titanic_df.drop(['Survived','SibSp','Parch','Family','Embarked','Title'],axis=1)\n",
    "test_df1 = test_df.drop(['SibSp','Parch','Family','Embarked','Title'],axis=1)\n",
    "y = titanic_df['Survived']"
   ]
  },
  {
   "cell_type": "code",
   "execution_count": 180,
   "id": "801b1ebe",
   "metadata": {},
   "outputs": [],
   "source": [
    "from sklearn.model_selection import train_test_split\n",
    "X_train, X_val, y_train, y_val = train_test_split(X, y, test_size=0.2, random_state=42)"
   ]
  },
  {
   "cell_type": "code",
   "execution_count": 181,
   "id": "dfa3bb9d",
   "metadata": {},
   "outputs": [
    {
     "data": {
      "text/plain": [
       "(0.8497191011235955, 0.8044692737430168)"
      ]
     },
     "execution_count": 181,
     "metadata": {},
     "output_type": "execute_result"
    }
   ],
   "source": [
    "from sklearn.svm import SVC\n",
    "svc= SVC(random_state=42, probability=True)\n",
    "params = {'kernel': ['rbf'], \n",
    "                  'gamma': [ 0.001, 0.01, 0.1, 1],\n",
    "                  'C': [1, 10, 50, 100,200,300]}\n",
    "\n",
    "grid__svc_cv = GridSearchCV(svc,param_grid = params, cv=10,\n",
    "                      scoring=\"accuracy\")\n",
    "\n",
    "grid__svc_cv.fit(X_train, y_train)\n",
    "pred_svm_train = grid__svc_cv.predict(X_train)\n",
    "pred_svm_val = grid__svc_cv.predict(X_val)\n",
    "\n",
    "accuracy_score(y_train, pred_svm_train), accuracy_score(y_val, pred_svm_val)"
   ]
  },
  {
   "cell_type": "code",
   "execution_count": 182,
   "id": "abb30d25",
   "metadata": {},
   "outputs": [
    {
     "data": {
      "text/plain": [
       "{'C': 200, 'gamma': 0.001, 'kernel': 'rbf'}"
      ]
     },
     "execution_count": 182,
     "metadata": {},
     "output_type": "execute_result"
    }
   ],
   "source": [
    "grid__svc_cv.best_params_"
   ]
  },
  {
   "cell_type": "code",
   "execution_count": 183,
   "id": "27856b14",
   "metadata": {},
   "outputs": [
    {
     "data": {
      "text/plain": [
       "0.8062206572769952"
      ]
     },
     "execution_count": 183,
     "metadata": {},
     "output_type": "execute_result"
    }
   ],
   "source": [
    "grid__svc_cv.best_score_"
   ]
  },
  {
   "cell_type": "code",
   "execution_count": 184,
   "id": "41621ae4",
   "metadata": {},
   "outputs": [],
   "source": [
    "pred_svc = grid__svc_cv.predict(test_df1)"
   ]
  },
  {
   "cell_type": "markdown",
   "id": "c114018e",
   "metadata": {},
   "source": [
    "##  SGD - 전체"
   ]
  },
  {
   "cell_type": "code",
   "execution_count": 57,
   "id": "25bebade",
   "metadata": {},
   "outputs": [],
   "source": [
    "X = titanic_df.drop(['Survived'],axis=1)\n",
    "y = titanic_df['Survived']"
   ]
  },
  {
   "cell_type": "code",
   "execution_count": 58,
   "id": "66b82fb4",
   "metadata": {},
   "outputs": [],
   "source": [
    "from sklearn.model_selection import train_test_split\n",
    "X_train, X_val, y_train, y_val = train_test_split(X, y, test_size=0.2, random_state=42)"
   ]
  },
  {
   "cell_type": "code",
   "execution_count": 59,
   "id": "f65d283c",
   "metadata": {},
   "outputs": [
    {
     "data": {
      "text/plain": [
       "(0.8581460674157303, 0.8100558659217877)"
      ]
     },
     "execution_count": 59,
     "metadata": {},
     "output_type": "execute_result"
    }
   ],
   "source": [
    "from sklearn.ensemble import GradientBoostingClassifier\n",
    "\n",
    "gb = GradientBoostingClassifier()\n",
    "\n",
    "param = {\n",
    "              'n_estimators' : [10,30,50],\n",
    "              'learning_rate': [0.1, 0.05, 0.01],\n",
    "              'max_depth': [4, 8],\n",
    "              'min_samples_leaf': [10,30],\n",
    "              'max_features': [0.3, 0.1] \n",
    "              }\n",
    "\n",
    "grid_sgd_cv = GridSearchCV(gb, param_grid=param, cv=10)\n",
    "\n",
    "grid_sgd_cv.fit(X_train, y_train)\n",
    "pred_sgd_train = grid_sgd_cv.predict(X_train)\n",
    "pred_sgd_val = grid_sgd_cv.predict(X_val)\n",
    "\n",
    "accuracy_score(y_train, pred_sgd_train), accuracy_score(y_val, pred_sgd_val)"
   ]
  },
  {
   "cell_type": "code",
   "execution_count": 60,
   "id": "169610ef",
   "metadata": {},
   "outputs": [
    {
     "data": {
      "text/plain": [
       "0.8356611893583723"
      ]
     },
     "execution_count": 60,
     "metadata": {},
     "output_type": "execute_result"
    }
   ],
   "source": [
    "grid_sgd_cv.best_score_"
   ]
  },
  {
   "cell_type": "markdown",
   "id": "14c1b22b",
   "metadata": {},
   "source": [
    "## SGD - 5개 변수 제외"
   ]
  },
  {
   "cell_type": "code",
   "execution_count": 79,
   "id": "7f85be80",
   "metadata": {},
   "outputs": [],
   "source": [
    "X = titanic_df.drop(['Survived','SibSp','Parch','Family','Embarked','Title'],axis=1)\n",
    "test_df1 = test_df.drop(['SibSp','Parch','Family','Embarked','Title'],axis=1)\n",
    "y = titanic_df['Survived']"
   ]
  },
  {
   "cell_type": "code",
   "execution_count": 80,
   "id": "b29b2ff9",
   "metadata": {},
   "outputs": [],
   "source": [
    "from sklearn.model_selection import train_test_split\n",
    "X_train, X_val, y_train, y_val = train_test_split(X, y, test_size=0.2, random_state=42)"
   ]
  },
  {
   "cell_type": "code",
   "execution_count": 81,
   "id": "39ed2d64",
   "metadata": {},
   "outputs": [
    {
     "data": {
      "text/plain": [
       "(0.8609550561797753, 0.8044692737430168)"
      ]
     },
     "execution_count": 81,
     "metadata": {},
     "output_type": "execute_result"
    }
   ],
   "source": [
    "from sklearn.ensemble import GradientBoostingClassifier\n",
    "gb = GradientBoostingClassifier()\n",
    "\n",
    "param = {\n",
    "              'n_estimators' : [50,70],\n",
    "              'learning_rate': [0.05, 0.1],\n",
    "              'max_depth': [3, 5],\n",
    "              'min_samples_leaf': [10,30],\n",
    "              'max_features': [0.3,0.5] \n",
    "              }\n",
    "\n",
    "grid_sgd_cv = GridSearchCV(gb, param_grid=param, cv=10)\n",
    "\n",
    "grid_sgd_cv.fit(X_train, y_train)\n",
    "pred_sgd_train = grid_sgd_cv.predict(X_train)\n",
    "pred_sgd_val = grid_sgd_cv.predict(X_val)\n",
    "\n",
    "accuracy_score(y_train, pred_sgd_train), accuracy_score(y_val, pred_sgd_val)"
   ]
  },
  {
   "cell_type": "code",
   "execution_count": 82,
   "id": "83ec7d39",
   "metadata": {},
   "outputs": [
    {
     "data": {
      "text/plain": [
       "{'learning_rate': 0.05,\n",
       " 'max_depth': 5,\n",
       " 'max_features': 0.5,\n",
       " 'min_samples_leaf': 30,\n",
       " 'n_estimators': 70}"
      ]
     },
     "execution_count": 82,
     "metadata": {},
     "output_type": "execute_result"
    }
   ],
   "source": [
    "grid_sgd_cv.best_params_"
   ]
  },
  {
   "cell_type": "code",
   "execution_count": 83,
   "id": "362d4621",
   "metadata": {},
   "outputs": [
    {
     "data": {
      "text/plain": [
       "0.8328638497652582"
      ]
     },
     "execution_count": 83,
     "metadata": {},
     "output_type": "execute_result"
    }
   ],
   "source": [
    "grid_sgd_cv.best_score_"
   ]
  },
  {
   "cell_type": "code",
   "execution_count": 84,
   "id": "e71baa9b",
   "metadata": {},
   "outputs": [],
   "source": [
    "pred_sgd = grid_sgd_cv.predict(test_df1)"
   ]
  },
  {
   "cell_type": "code",
   "execution_count": 85,
   "id": "3ae79ee9",
   "metadata": {},
   "outputs": [],
   "source": [
    "sub_df['Survived'] = pred_sgd.astype(int)\n",
    "sub_df.to_csv('submin_sgd.csv', index= False)"
   ]
  },
  {
   "cell_type": "markdown",
   "id": "4e0a89df",
   "metadata": {},
   "source": [
    "## EXT - 5개 변수 제외"
   ]
  },
  {
   "cell_type": "code",
   "execution_count": 86,
   "id": "153e2df9",
   "metadata": {},
   "outputs": [],
   "source": [
    "X = titanic_df.drop(['Survived','SibSp','Parch','Family','Embarked','Title'],axis=1)\n",
    "test_df1 = test_df.drop(['SibSp','Parch','Family','Embarked','Title'],axis=1)\n",
    "y = titanic_df['Survived']"
   ]
  },
  {
   "cell_type": "code",
   "execution_count": 87,
   "id": "e3d8f859",
   "metadata": {},
   "outputs": [],
   "source": [
    "from sklearn.model_selection import train_test_split\n",
    "X_train, X_val, y_train, y_val = train_test_split(X, y, test_size=0.2, random_state=42)"
   ]
  },
  {
   "cell_type": "code",
   "execution_count": 88,
   "id": "d5116089",
   "metadata": {},
   "outputs": [
    {
     "data": {
      "text/plain": [
       "(0.8103932584269663, 0.7932960893854749)"
      ]
     },
     "execution_count": 88,
     "metadata": {},
     "output_type": "execute_result"
    }
   ],
   "source": [
    "from sklearn.tree import ExtraTreeClassifier\n",
    "et = ExtraTreeClassifier(random_state=42)\n",
    "\n",
    "param = {\n",
    "    'max_depth': [3, 5],\n",
    "    'min_samples_leaf': [4,10,20],\n",
    "    'min_samples_split' : [4, 8]\n",
    "}\n",
    "\n",
    "grid_et_cv = GridSearchCV(et, param_grid=param, cv=10)\n",
    "\n",
    "grid_et_cv.fit(X_train, y_train)\n",
    "pred_et_train = grid_et_cv.predict(X_train)\n",
    "pred_et_val = grid_et_cv.predict(X_val)\n",
    "\n",
    "accuracy_score(y_train, pred_et_train), accuracy_score(y_val, pred_et_val)"
   ]
  },
  {
   "cell_type": "code",
   "execution_count": 89,
   "id": "cdac0798",
   "metadata": {},
   "outputs": [
    {
     "data": {
      "text/plain": [
       "{'max_depth': 3, 'min_samples_leaf': 4, 'min_samples_split': 4}"
      ]
     },
     "execution_count": 89,
     "metadata": {},
     "output_type": "execute_result"
    }
   ],
   "source": [
    "grid_et_cv.best_params_"
   ]
  },
  {
   "cell_type": "code",
   "execution_count": 90,
   "id": "f6b8868b",
   "metadata": {},
   "outputs": [
    {
     "data": {
      "text/plain": [
       "0.8089593114241002"
      ]
     },
     "execution_count": 90,
     "metadata": {},
     "output_type": "execute_result"
    }
   ],
   "source": [
    "grid_et_cv.best_score_"
   ]
  },
  {
   "cell_type": "code",
   "execution_count": 168,
   "id": "48546fd9",
   "metadata": {},
   "outputs": [],
   "source": [
    "pred_et = grid_et_cv.predict(test_df1)"
   ]
  },
  {
   "cell_type": "markdown",
   "id": "87d7cd4e",
   "metadata": {},
   "source": [
    "# 최종1 - votting (soft : 다수결 투표)"
   ]
  },
  {
   "cell_type": "code",
   "execution_count": 185,
   "id": "492ce065",
   "metadata": {},
   "outputs": [
    {
     "data": {
      "text/plain": [
       "(0.8258426966292135, 0.7988826815642458)"
      ]
     },
     "execution_count": 185,
     "metadata": {},
     "output_type": "execute_result"
    }
   ],
   "source": [
    "from sklearn.ensemble import VotingClassifier\n",
    "vot = VotingClassifier(estimators=[('rf',grid_rf_cv),\n",
    "                                  ('sgd',grid_sgd_cv),\n",
    "                                  ('lr',lr),\n",
    "                                   ('et', grid_et_cv),\n",
    "                                  ('svc',grid__svc_cv)],\n",
    "                      voting='soft',n_jobs=-1)\n",
    "vot.fit(X_train,y_train)\n",
    "\n",
    "pred_vot1 = vot.predict(X_train)\n",
    "pred_vot2 = vot.predict(X_val)\n",
    "\n",
    "accuracy_score(y_train, pred_vot1), accuracy_score(y_val, pred_vot2)"
   ]
  },
  {
   "cell_type": "code",
   "execution_count": 186,
   "id": "f1c4d785",
   "metadata": {},
   "outputs": [],
   "source": [
    "pred_vot = vot.predict(test_df1)\n",
    "sub_df['Survived'] = pred_vot.astype(int)\n",
    "sub_df.to_csv('submission_123456789.csv', index=False)\n",
    "\n",
    "# kaggle : 0.7751"
   ]
  },
  {
   "cell_type": "markdown",
   "id": "5a254778",
   "metadata": {},
   "source": [
    "# 최종2 - 가중치"
   ]
  },
  {
   "cell_type": "code",
   "execution_count": 160,
   "id": "a0ea9a0c",
   "metadata": {},
   "outputs": [],
   "source": [
    "pred_weighted = pred_rf * 0.35 + pred_sgd * 0.40 + pred_lr * 0.25"
   ]
  },
  {
   "cell_type": "code",
   "execution_count": 162,
   "id": "de7318bd",
   "metadata": {},
   "outputs": [],
   "source": [
    "pred_weighted = np.where(pred_weighted>0.8, 1, 0)"
   ]
  },
  {
   "cell_type": "code",
   "execution_count": 164,
   "id": "9abe351a",
   "metadata": {},
   "outputs": [],
   "source": [
    "sub_df['Survived'] = pred_weighted.astype(int)\n",
    "sub_df.to_csv('submission_123456789.csv', index=False)\n",
    "\n",
    "# kaggle : 0.7676"
   ]
  }
 ],
 "metadata": {
  "kernelspec": {
   "display_name": "Python 3 (ipykernel)",
   "language": "python",
   "name": "python3"
  },
  "language_info": {
   "codemirror_mode": {
    "name": "ipython",
    "version": 3
   },
   "file_extension": ".py",
   "mimetype": "text/x-python",
   "name": "python",
   "nbconvert_exporter": "python",
   "pygments_lexer": "ipython3",
   "version": "3.11.3"
  }
 },
 "nbformat": 4,
 "nbformat_minor": 5
}
